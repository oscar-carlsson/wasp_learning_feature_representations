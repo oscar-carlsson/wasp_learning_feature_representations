{
  "nbformat": 4,
  "nbformat_minor": 0,
  "metadata": {
    "colab": {
      "name": "WASP_LFR_Module1_OscarCarlsson_JimmyAronsson.ipynb",
      "provenance": [],
      "collapsed_sections": [],
      "authorship_tag": "ABX9TyPUUIGBsc4SLfTPn0UoMNt6",
      "include_colab_link": true
    },
    "kernelspec": {
      "name": "python3",
      "display_name": "Python 3"
    }
  },
  "cells": [
    {
      "cell_type": "markdown",
      "metadata": {
        "id": "view-in-github",
        "colab_type": "text"
      },
      "source": [
        "<a href=\"https://colab.research.google.com/github/oscar-carlsson/wasp_learning_feature_representations/blob/main/WASP_LFR_Module1_OscarCarlsson_JimmyAronsson.ipynb\" target=\"_parent\"><img src=\"https://colab.research.google.com/assets/colab-badge.svg\" alt=\"Open In Colab\"/></a>"
      ]
    },
    {
      "cell_type": "code",
      "metadata": {
        "id": "vqpEf9U7O9ZX"
      },
      "source": [
        "import os\n",
        "from google.colab import drive\n",
        "if not os.path.isdir(\"mnist\"):\n",
        "    drive.mount('/content/gdrive')\n",
        "\n",
        "    os.environ['KAGGLE_CONFIG_DIR'] = \"/content/gdrive/My Drive/Kaggle\"\n",
        "    # /content/gdrive/My Drive/Kaggle is the path where kaggle.json is present in the Google Drive\n",
        "\n",
        "    # %cd /content/gdrive/My Drive/Kaggle   Uncomment if you want to save data on g_drive\n",
        "    !kaggle datasets download -d hsankesara/flickr-image-dataset\n",
        "    !unzip flickr-image-dataset.zip\n",
        "    !rm flickr-image-dataset.zip"
      ],
      "execution_count": null,
      "outputs": []
    },
    {
      "cell_type": "code",
      "metadata": {
        "id": "pcIs8xqc7bsC"
      },
      "source": [
        "import tensorflow as tf\n",
        "from tensorflow import keras\n",
        "from skimage import io\n",
        "from pdb import set_trace\n",
        "import os\n",
        "import numpy as np\n",
        "import cv2\n",
        "import time\n",
        "import matplotlib.pyplot as plt\n",
        "import tensorflow_probability as tfp\n",
        "from tensorflow.keras import preprocessing"
      ],
      "execution_count": 20,
      "outputs": []
    },
    {
      "cell_type": "code",
      "metadata": {
        "id": "GYzVVT2O7cF8",
        "outputId": "f1ed735d-e3e6-47ef-e236-43e7b361d256",
        "colab": {
          "base_uri": "https://localhost:8080/"
        }
      },
      "source": [
        "class generator():\n",
        "\n",
        "  def __init__(self):\n",
        "    self.params = params\n",
        "    self.gaussian = tfp.distributions.MultivariateNormalFullCovariance(\n",
        "        loc=self.params.mu, covariance_matrix=self.params.cov,\n",
        "        validate_args=False, allow_nan_stats=True,\n",
        "        name='MultivariateNormalFullCovariance'\n",
        "    )\n",
        "\n",
        "  def NCE(self):\n",
        "    return\n",
        "    #blabla\n",
        "\n",
        "  def cNCE(self):\n",
        "    return\n",
        "    #blabla\n",
        "  \n",
        "\n",
        "class params:\n",
        "  # Temporary values for testing:\n",
        "  mu = [1., 2, 3]\n",
        "  cov = [[ 0.36,  0.12,  0.06],\n",
        "       [ 0.12,  0.29, -0.13],\n",
        "       [ 0.06, -0.13,  0.26]]\n",
        "\n",
        "\n",
        "\n",
        "model = generator()\n",
        "\n",
        "model.gaussian.mean().numpy()\n",
        "model.gaussian.covariance().numpy()"
      ],
      "execution_count": 26,
      "outputs": [
        {
          "output_type": "execute_result",
          "data": {
            "text/plain": [
              "array([[ 0.36,  0.12,  0.06],\n",
              "       [ 0.12,  0.29, -0.13],\n",
              "       [ 0.06, -0.13,  0.26]], dtype=float32)"
            ]
          },
          "metadata": {
            "tags": []
          },
          "execution_count": 26
        }
      ]
    },
    {
      "cell_type": "code",
      "metadata": {
        "id": "0XP67QPC7ggD"
      },
      "source": [
        ""
      ],
      "execution_count": null,
      "outputs": []
    }
  ]
}